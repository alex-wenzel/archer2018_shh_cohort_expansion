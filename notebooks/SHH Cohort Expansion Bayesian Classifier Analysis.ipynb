{
  "cells": [
    {
      "cell_type": "markdown",
      "source": [
        "# Analysis Overview\n",
        "\n",
        "**Author**: Clarence Mah<br>\n",
        "**Email**: ckmah@ucsd.edu\n",
        "\n",
        "TODO: citation\n",
        "\n",
        "This analysis aims to classify additional SHHa/SHHb type tumors, as done to classify additional Group 3 tumors in the \"Group 3 Cohort Expansion\" analysis of the paper: Proteomics, post-translational modifications, and integrative analyses reveal heterogeneity of molecular mechanisms within medulloblastoma subgroups. Archer et al. (2018).\n",
        "\n",
        "To expand our number of SHHa/SHHb type tumors (typed with proteomics-based clustering), we used the c3 samples from the Cho et al. (2011) cohort which are most like SHH. Since only array data were available for the Cho samples, we also used array data for our current SHH cohort to better normalize the two data sets.\n",
        "\n",
        "Following the methods in Cho et al. (2011), we projected the expression data for both cohorts into “gene set space” using a single sample version of GSEA (ssGSEA), using the Hallmarks (H), Curated Gene\n",
        "Sets (C2), Motif Gene Sets (C3), and Oncogenic Gene Sets (C6) collections from the MSigDB. Using the SHHa, SHHb labels for the current cohort, we determined the 10 most differentially enriched gene sets for each subtype (Figure S5D, main text) according to the Information Coefficient (IC) as defined in Kim et al. (2016). These top sets were used as features to train a Bayesian cumulative log-odds predictor as previously described (Tamayo et al., 2011). The predictor was applied to the projected Cho et al. (2011) c3 samples to assign SHHa and SHHb labels."
      ],
      "metadata": {}
    },
    {
      "cell_type": "markdown",
      "source": [
        "# Notebook Setup"
      ],
      "metadata": {}
    },
    {
      "cell_type": "code",
      "source": [
        "import matplotlib as mpl\n",
        "import matplotlib.pyplot as plt\n",
        "import numpy as np\n",
        "import pandas as pd\n",
        "import seaborn as sns\n",
        "\n",
        "import sys\n",
        "import os\n",
        "\n",
        "sys.path.append('../scripts/')\n",
        "sys.setrecursionlimit(40000)\n",
        "\n",
        "from rpy2.robjects import pandas2ri\n",
        "pandas2ri.activate()\n",
        "\n%matplotlib inline"
      ],
      "outputs": [],
      "execution_count": 1,
      "metadata": {
        "ExecuteTime": {
          "end_time": "2017-12-14T20:27:18.824575Z",
          "start_time": "2017-12-14T20:27:18.772585Z"
        }
      }
    },
    {
      "cell_type": "markdown",
      "source": [
        "Functions for rpy2 interface to the bayesian classifier."
      ],
      "metadata": {}
    },
    {
      "cell_type": "code",
      "source": [
        "def apply_bayesian_classifier(train_features, train_target, train_dir, test_features, out_dir, run_train=True):\n",
        "    '''\n",
        "    Apply a Bayesian predictor for continuous (via discretization), binary or multi-class targets.\n",
        "\n",
        "    train_features : str\n",
        "        Path to dataset with features as rows and samples as columns.\n",
        "\n",
        "    train_target : str\n",
        "        Path to training dataset category labels.\n",
        "\n",
        "    train_dir : str\n",
        "        Path to training model folder.\n",
        "\n",
        "    test_features : str\n",
        "        Path to testing dataset with features as rows and samples as columns.\n",
        "\n",
        "    out_dir : str\n",
        "        Path to save testing data classification files.\n",
        "\n",
        "    run_train : bool\n",
        "        True to perform training step, False to skip.\n",
        "    '''\n",
        "    command = 'Rscript ../scripts/apply_bayesian_classifier.R {} {} {} {} {} {}'.format(\n",
        "        train_features,\n",
        "        train_target,\n",
        "        train_dir,\n",
        "        test_features,\n",
        "        out_dir,\n",
        "        run_train)\n",
        "\n",
        "    os.system(command)\n",
        "    probs_file = os.path.join(out_dir, 'test_output.gct')\n",
        "    probs_df = pd.read_table(probs_file, skiprows=2)\n",
        "    return probs_df"
      ],
      "outputs": [],
      "execution_count": 2,
      "metadata": {}
    },
    {
      "cell_type": "markdown",
      "source": [
        "# Apply bayesian classifier"
      ],
      "metadata": {}
    },
    {
      "cell_type": "markdown",
      "source": [
        "Use top 10 differentially enriched pathways of training data (Fraenkel SHHa/b samples). Total 20 features.\n",
        "\nNOTE: Step may be slow and will try to install required R packages as necessary."
      ],
      "metadata": {}
    },
    {
      "cell_type": "code",
      "source": [
        "train_features = '../data/fraenkel/affy_norm.msigdb.v6.0.h.c2.c3.c6.PROJ.shha_shhb.top_10.gct'\n",
        "train_target = '../data/fraenkel/shhab.subtypes.verbose.gct'\n",
        "train_dir = '../data/fraenkel/shhab_affy_no_go_train/'\n",
        "\n",
        "# TODO: change files to fit your test dataset\n",
        "test_features = '../data/cho/cho.fraenkel_affy.v6.0.h.c2.c3.c6.proj.shha_shhb.top_10.gct'\n",
        "out_dir = '../data/cho/cho_shhab_affy_no_go_test/'\n",
        "\ntest_prob = apply_bayesian_classifier(train_features, train_target, train_dir, test_features, out_dir)"
      ],
      "outputs": [],
      "execution_count": 3,
      "metadata": {
        "ExecuteTime": {
          "end_time": "2017-12-13T18:01:00.737473Z",
          "start_time": "2017-12-13T18:00:53.806594Z"
        }
      }
    },
    {
      "cell_type": "markdown",
      "source": [
        "Load test results."
      ],
      "metadata": {}
    },
    {
      "cell_type": "code",
      "source": [
        "# TODO: change files to fit your test dataset\n",
        "test_prob = pd.read_table('../data/cho/cho_shhab_affy_no_go_test/test_output.gct', skiprows=2, index_col='Name')\n",
        "test_prob.drop('Description', axis=1, inplace=True)\n",
        "test_labels = test_prob.loc['predicted.model']\n",
        "test_labels.replace(to_replace='SHHa', value='A', inplace=True)\n",
        "test_labels.replace(to_replace='SHHb', value='B', inplace=True)"
      ],
      "outputs": [],
      "execution_count": 4,
      "metadata": {
        "ExecuteTime": {
          "end_time": "2017-12-13T18:01:00.773397Z",
          "start_time": "2017-12-13T18:01:00.739092Z"
        }
      }
    },
    {
      "cell_type": "markdown",
      "source": [
        "# Evaluate Results"
      ],
      "metadata": {}
    },
    {
      "cell_type": "markdown",
      "source": [
        "Load test data c1/c5 labels to compare to predicted G3a/b labels."
      ],
      "metadata": {}
    },
    {
      "cell_type": "code",
      "source": [
        "colors = {'G3b': '#F68B1F',\n",
        "          'G3a': '#ECE81B',\n",
        "          'G4': '#6E8C3D',\n",
        "          'SHHa': '#E72A2D',\n",
        "          'SHHb': '#714A9E'}"
      ],
      "outputs": [],
      "execution_count": 5,
      "metadata": {}
    },
    {
      "cell_type": "code",
      "source": [
        "# TODO: change files to fit your test dataset\n",
        "cho_c_labels = pd.read_table('../data/cho/primaries.subtypes.tsv', index_col=0, header=None).iloc[:,0]\n",
        "cho_c_labels = cho_c_labels.loc[(cho_c_labels == 'c3')]\n",
        "\n",
        "annotations = pd.DataFrame([test_labels, cho_c_labels]).T\n",
        "annotations = annotations.apply(lambda x: pd.factorize(x)[0])\n",
        "annotations.replace([0,1], [colors['SHHa'], colors['SHHb']], inplace=True)\n",
        "annotations.columns = ['predicted', 'c']"
      ],
      "outputs": [],
      "execution_count": 6,
      "metadata": {
        "ExecuteTime": {
          "end_time": "2017-12-13T18:16:16.511418Z",
          "start_time": "2017-12-13T18:16:16.480241Z"
        }
      }
    },
    {
      "cell_type": "code",
      "source": [
        "sns.clustermap(\n",
        "    test_prob.iloc[:2, :].astype(float),\n",
        "    cmap='Blues',\n",
        "    col_cluster=False,\n",
        "    row_cluster=False,\n",
        "    col_colors=annotations)"
      ],
      "outputs": [
        {
          "output_type": "execute_result",
          "execution_count": 7,
          "data": {
            "text/plain": [
              "<seaborn.matrix.ClusterGrid at 0x1125c4978>"
            ]
          },
          "metadata": {}
        },
        {
          "output_type": "display_data",
          "data": {
            "text/plain": [
              "<matplotlib.figure.Figure at 0x1125b47f0>"
            ],
            "image/png": "[encoded data removed]"
          },
          "metadata": {}
        }
      ],
      "execution_count": 7,
      "metadata": {
        "ExecuteTime": {
          "end_time": "2017-12-13T18:17:11.191142Z",
          "start_time": "2017-12-13T18:17:10.384039Z"
        }
      }
    }
  ],
  "metadata": {
    "hide_input": false,
    "kernelspec": {
      "name": "python3",
      "language": "python",
      "display_name": "Python 3"
    },
    "language_info": {
      "name": "python",
      "version": "3.6.1",
      "mimetype": "text/x-python",
      "codemirror_mode": {
        "name": "ipython",
        "version": 3
      },
      "pygments_lexer": "ipython3",
      "nbconvert_exporter": "python",
      "file_extension": ".py"
    },
    "varInspector": {
      "cols": {
        "lenName": 16,
        "lenType": 16,
        "lenVar": 40
      },
      "kernels_config": {
        "python": {
          "delete_cmd_postfix": "",
          "delete_cmd_prefix": "del ",
          "library": "var_list.py",
          "varRefreshCmd": "print(var_dic_list())"
        },
        "r": {
          "delete_cmd_postfix": ") ",
          "delete_cmd_prefix": "rm(",
          "library": "var_list.r",
          "varRefreshCmd": "cat(var_dic_list()) "
        }
      },
      "types_to_exclude": [
        "module",
        "function",
        "builtin_function_or_method",
        "instance",
        "_Feature"
      ],
      "window_display": false
    },
    "kernel_info": {
      "name": "python3"
    },
    "nteract": {
      "version": "0.9.1"
    }
  },
  "nbformat": 4,
  "nbformat_minor": 2
}